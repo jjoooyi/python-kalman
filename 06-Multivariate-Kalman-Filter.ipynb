{
 "cells": [
  {
   "cell_type": "markdown",
   "metadata": {},
   "source": [
    "https://blog.naver.com/jewdsa813/222200570774\r\n",
    "\r\n",
    "https://github.com/rlabbe/Kalman-and-Bayesian-Filters-in-Python/blob/master/06-Multivariate-Kalman-Filters.ipynb\r\n",
    "\r\n",
    "# 다변수 칼만 필터\r\n",
    "- 여러가지 확률변수 필터링하기"
   ]
  },
  {
   "cell_type": "code",
   "execution_count": null,
   "metadata": {},
   "outputs": [],
   "source": [
    "%matplotlib inline\r\n",
    "import book_format\r\n",
    "book_format.set_style()"
   ]
  },
  {
   "cell_type": "code",
   "execution_count": 2,
   "metadata": {},
   "outputs": [
    {
     "data": {
      "image/png": "[encoded data removed]",
      "text/plain": "<Figure size 792x216 with 1 Axes>"
     },
     "metadata": {},
     "output_type": "display_data"
    }
   ],
   "source": [
    "# 알고리즘 그래픽\r\n",
    "import kf_book.book_plots as book_plots\r\n",
    "book_plots.show_residual_chart()"
   ]
  },
  {
   "cell_type": "markdown",
   "metadata": {},
   "source": [
    "## 1차원에서 개 추적하기, 가우스 함수를 곱하고 추가하기..\r\n",
    "\r\n",
    "* 개 시뮬레이션 작성\r\n",
    "* 시뮬레이션은 각 카운트 단계에 대해 실행\r\n",
    "* 각 단계마다 개를 1미터 앞으로 이동\r\n",
    "* 각 단계에서 속도는 프로세스 분산(process_var)에 따라 달라짐\r\n",
    "* 위치를 업데이트 한 뒤 센서 분산(z_var)으로 측정 계산\r\n",
    "* 이 함수는 측정값과 위치의 NumPy array 반환\r\n",
    "\r\n",
    "### 예측 단계(predict step)\r\n",
    "* 상태 및 공분산(x, P), 프로세스 모델 및 프로세스 노이즈(F, Q), 선택사항 으로 제어 입력 설계\r\n",
    "\r\n",
    "\r\n",
    "- 평균은 가장 가능성이 높은 위치, 분산은 위치의 확률분포, 위치는 시스템의 상태, 이때 평균을 상태변수라고 함\r\n",
    "- 상태변수는 센서로 직접 측정되는 관측변수거나, 관찰된 변수에서 유추한 숨겨진 변수일 수 있음\r\n",
    "- 위치와 속도를 모두 추적하기 위해서 상태벡터 x, 공분산행렬 P로 표현된 가우스 함수 사용\r\n",
    "- 개 추적 문제의 경우 센서가 위치만 판독하므로 위치가 관찰되고 속도가 숨겨짐, 숨겨진 변수를 추적\r\n"
   ]
  },
  {
   "cell_type": "code",
   "execution_count": 3,
   "metadata": {},
   "outputs": [],
   "source": [
    "import math\r\n",
    "import numpy as np\r\n",
    "from numpy.random import randn\r\n",
    "\r\n",
    "def compute_dog_data(z_var, process_var, count=1, dt=1):\r\n",
    "  \"return track, measurement 1D ndarrays\"\r\n",
    "  x, vel = 1., 1. # 위치, 속도\r\n",
    "  z_std = math.sqrt(z_var)\r\n",
    "  p_std = math.sqrt(process_var)\r\n",
    "  xs, zs = [], [] # 예측치, 측정값?\r\n",
    "  for _ in range(count):\r\n",
    "    v = vel + (randn() * p_std)\r\n",
    "    x += v * dt\r\n",
    "    xs.append(x)\r\n",
    "    zs.append(x + randn() * z_std)\r\n",
    "  return np.array(xs), np.array(zs)"
   ]
  },
  {
   "cell_type": "markdown",
   "metadata": {},
   "source": [
    "* 상태 변수 설계"
   ]
  },
  {
   "cell_type": "code",
   "execution_count": 5,
   "metadata": {},
   "outputs": [
    {
     "data": {
      "text/plain": "array([[10. ],\n       [ 4.5]])"
     },
     "execution_count": 5,
     "metadata": {},
     "output_type": "execute_result"
    }
   ],
   "source": [
    "# 상태변수, x를 초기화\r\n",
    "x = np.array([[10.0], [4.5]])\r\n",
    "x"
   ]
  },
  {
   "cell_type": "code",
   "execution_count": 6,
   "metadata": {},
   "outputs": [
    {
     "data": {
      "text/plain": "array([[10. ],\n       [ 4.5]])"
     },
     "execution_count": 6,
     "metadata": {},
     "output_type": "execute_result"
    }
   ],
   "source": [
    "# 행벡터 -> 열백터, 전치 사용\r\n",
    "x = np.array([[10.0, 4.5]]).T\r\n",
    "x"
   ]
  },
  {
   "cell_type": "code",
   "execution_count": 7,
   "metadata": {},
   "outputs": [
    {
     "data": {
      "text/plain": "array([10. ,  4.5])"
     },
     "execution_count": 7,
     "metadata": {},
     "output_type": "execute_result"
    }
   ],
   "source": [
    "# numpy는 1D array를 벡터로 인식함, 1D array로 표기\r\n",
    "x = np.array([10.0, 4.5])\r\n",
    "x\r\n"
   ]
  },
  {
   "cell_type": "code",
   "execution_count": 8,
   "metadata": {},
   "outputs": [
    {
     "data": {
      "text/plain": "array([1., 0., 0., 0., 0.])"
     },
     "execution_count": 8,
     "metadata": {},
     "output_type": "execute_result"
    }
   ],
   "source": [
    "# 형태 한가지로 통일 float 한개만 있어도 전체 다 float 처리 됨\r\n",
    "np.array([1., 0, 0, 0, 0])"
   ]
  },
  {
   "cell_type": "code",
   "execution_count": 10,
   "metadata": {},
   "outputs": [
    {
     "name": "stdout",
     "output_type": "stream",
     "text": [
      "[[19.]\n",
      " [48.]]\n",
      "[[19.]\n",
      " [48.]]\n"
     ]
    }
   ],
   "source": [
    "A = np.array([[1, 2], [3, 4]])\r\n",
    "x = np.array([[10.], [4.5]])\r\n",
    "print(np.dot(A, x))\r\n",
    "print(A @ x)\r\n"
   ]
  },
  {
   "cell_type": "code",
   "execution_count": 11,
   "metadata": {},
   "outputs": [
    {
     "name": "stdout",
     "output_type": "stream",
     "text": [
      "[[19.]\n",
      " [48.]]\n",
      "[19. 48.]\n"
     ]
    }
   ],
   "source": [
    "x = np.array([[10., 4.5]]).T\r\n",
    "print(A @ x)\r\n",
    "\r\n",
    "x = np.array([10.0, 4.5])\r\n",
    "print(A @ x) # 1D array 형식으로 반환되지만 칼만필터는 이 구조체를 벡터로 잘 인식됨"
   ]
  },
  {
   "cell_type": "markdown",
   "metadata": {},
   "source": [
    "* 상태 공분산 설계\r\n",
    "> 공분산행렬 P\r\n",
    "> * 1차원 칼만필터: 분산에 대한 초깃값을 지정한 후 필터에 측정값을 추가하여 추정값 업데이트\r\n",
    "> * 다차원 칼만필터: 공분산 P에 대한 초깃값 지정한 후 필터는 각 기간이 지날때마다 업데이트\r\n",
    "> - 공분산 행렬의 대각선에는 각 변수의 분산이 포함, 비대각 원소는 공분산 포함"
   ]
  },
  {
   "cell_type": "code",
   "execution_count": 13,
   "metadata": {},
   "outputs": [
    {
     "data": {
      "text/plain": "array([[500.,   0.],\n       [  0.,  49.]])"
     },
     "execution_count": 13,
     "metadata": {},
     "output_type": "execute_result"
    }
   ],
   "source": [
    "# numpy.diag, 비대각 원소에 0이 있는 행렬\r\n",
    "P = np.diag([500., 49.])\r\n",
    "P"
   ]
  },
  {
   "cell_type": "code",
   "execution_count": 15,
   "metadata": {},
   "outputs": [
    {
     "data": {
      "text/plain": "array([[500.,   0.],\n       [  0.,  49.]])"
     },
     "execution_count": 15,
     "metadata": {},
     "output_type": "execute_result"
    }
   ],
   "source": [
    "P = np.array([[500., 0.], [0., 49.]])\r\n",
    "P"
   ]
  },
  {
   "cell_type": "markdown",
   "metadata": {},
   "source": [
    "* 프로세스 모델 설계\r\n",
    "\r\n",
    "> 시스템 동작 설명하는 수학적 모델\r\n",
    "\r\n",
    "> 필터는 프로세스 모델을 사용해 이산시간 단계 이후 상태 예측\r\n",
    "\r\n",
    "> 시스템의 역학을 설명하는 일련의 방정식을 가지고 프로세스 모델 설계"
   ]
  },
  {
   "cell_type": "code",
   "execution_count": null,
   "metadata": {},
   "outputs": [],
   "source": [
    "def predect(pos, movement):\r\n",
    "  return gaussian(pos.mean + movement.mean, pos.var + movement.var)"
   ]
  }
 ],
 "metadata": {
  "kernelspec": {
   "display_name": "Python 3.9.2 64-bit",
   "name": "python392jvsc74a57bd063fd5069d213b44bf678585dea6b12cceca9941eaf7f819626cde1f2670de90d"
  },
  "language_info": {
   "codemirror_mode": {
    "name": "ipython",
    "version": 3
   },
   "file_extension": ".py",
   "mimetype": "text/x-python",
   "name": "python",
   "nbconvert_exporter": "python",
   "pygments_lexer": "ipython3",
   "version": "3.9.2"
  },
  "metadata": {
   "interpreter": {
    "hash": "63fd5069d213b44bf678585dea6b12cceca9941eaf7f819626cde1f2670de90d"
   }
  },
  "orig_nbformat": 2
 },
 "nbformat": 4,
 "nbformat_minor": 2
}